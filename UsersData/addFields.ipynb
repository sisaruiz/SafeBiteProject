{
 "cells": [
  {
   "cell_type": "code",
   "execution_count": 1,
   "metadata": {
    "collapsed": true
   },
   "outputs": [],
   "source": [
    "import json\n",
    "import random\n",
    "\n",
    "# Function to generate a random dietary restriction\n",
    "def generate_dietary_restriction():\n",
    "    options = [\"none\", \"vegan\", \"vegetarian\", \"pescatarian\", \"halal\"]\n",
    "    return random.choice(options)\n",
    "\n",
    "# Function to generate a nested document with an array of strings\n",
    "def generate_nested_document():\n",
    "    ingredients = [\n",
    "        \"celery\", \"wheat\", \"rye\", \"barley\", \"oats\", \"spelt\", \"kamut\",\n",
    "        \"cabbage\", \"broccoli\", \"cauliflower\", \"kale\", \"brussel sprouts\",\n",
    "        \"collard greens\", \"crustaceans\", \"eggs\", \"fish\", \"milk\", \"lupin\",\n",
    "        \"molluscs\", \"mustard\", \"nuts\", \"peanuts\", \"sesame\", \"soy\"\n",
    "    ]\n",
    "\n",
    "    # Randomly choose the size of the array\n",
    "    array_size = random.randint(0, len(ingredients))\n",
    "    # Randomly select ingredients for the array\n",
    "    array_values = random.sample(ingredients, array_size)\n",
    "\n",
    "    return {\"allergens\": array_values}\n",
    "\n",
    "# Function to update each document in the JSON file\n",
    "def update_json_file(file_path):\n",
    "    with open(file_path, 'r') as file:\n",
    "        data = json.load(file)\n",
    "\n",
    "    for document in data:\n",
    "        # Add the first property with a random dietary restriction\n",
    "        document[\"diet_type\"] = generate_dietary_restriction()\n",
    "        # Add the second property with a nested document\n",
    "        document[\"allergy\"] = generate_nested_document()\n",
    "        # Add admin boolean\n",
    "        document['admin'] = False\n",
    "\n",
    "    with open(file_path, 'w') as file:\n",
    "        json.dump(data, file, indent=2)\n",
    "\n",
    "# Replace 'your_file.json' with the actual file path\n",
    "update_json_file('random_users2.json')"
   ]
  },
  {
   "cell_type": "code",
   "execution_count": 2,
   "outputs": [
    {
     "name": "stdout",
     "output_type": "stream",
     "text": [
      "Duplicates removed successfully.\n"
     ]
    }
   ],
   "source": [
    "from pymongo import MongoClient\n",
    "\n",
    "# Connect to MongoDB\n",
    "client = MongoClient('mongodb://localhost:27017')\n",
    "db = client['SafeBite']\n",
    "collection = db['Users']\n",
    "\n",
    "# Find duplicates based on 'user_name' field\n",
    "pipeline = [\n",
    "    {\n",
    "        \"$group\": {\n",
    "            \"_id\": {\"user_name\": \"$user_name\"},\n",
    "            \"unique_ids\": {\"$addToSet\": \"$_id\"},\n",
    "            \"count\": {\"$sum\": 1}\n",
    "        }\n",
    "    },\n",
    "    {\n",
    "        \"$match\": {\n",
    "            \"count\": {\"$gt\": 1}\n",
    "        }\n",
    "    }\n",
    "]\n",
    "\n",
    "cursor = collection.aggregate(pipeline)\n",
    "\n",
    "# Remove duplicates\n",
    "for doc in cursor:\n",
    "    # Keep the first document and delete the rest\n",
    "    ids_to_keep = doc['unique_ids'][0]\n",
    "    ids_to_remove = doc['unique_ids'][1:]\n",
    "\n",
    "    collection.delete_many({\"_id\": {\"$in\": ids_to_remove}})\n",
    "\n",
    "print(\"Duplicates removed successfully.\")\n",
    "\n",
    "# Close the MongoDB connection\n",
    "client.close()"
   ],
   "metadata": {
    "collapsed": false
   }
  },
  {
   "cell_type": "code",
   "execution_count": null,
   "outputs": [],
   "source": [],
   "metadata": {
    "collapsed": false
   }
  }
 ],
 "metadata": {
  "kernelspec": {
   "display_name": "Python 3",
   "language": "python",
   "name": "python3"
  },
  "language_info": {
   "codemirror_mode": {
    "name": "ipython",
    "version": 2
   },
   "file_extension": ".py",
   "mimetype": "text/x-python",
   "name": "python",
   "nbconvert_exporter": "python",
   "pygments_lexer": "ipython2",
   "version": "2.7.6"
  }
 },
 "nbformat": 4,
 "nbformat_minor": 0
}
